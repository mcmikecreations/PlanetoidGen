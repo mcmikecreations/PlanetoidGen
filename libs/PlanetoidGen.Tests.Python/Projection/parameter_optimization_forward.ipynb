{
 "cells": [
  {
   "cell_type": "markdown",
   "id": "6c716dfe",
   "metadata": {},
   "source": [
    "# Parameter optimization for \"A Quadrilateralized Spherical Cube Earth Data Base\"\n",
    "\n",
    "## Setup"
   ]
  },
  {
   "cell_type": "code",
   "execution_count": 1,
   "id": "40a3624d",
   "metadata": {},
   "outputs": [],
   "source": [
    "!JAX_ENABLE_X64=True\n",
    "import numpy as jnp\n",
    "import torch"
   ]
  },
  {
   "cell_type": "markdown",
   "id": "bd87f85b",
   "metadata": {},
   "source": [
    "## Initial values"
   ]
  },
  {
   "cell_type": "code",
   "execution_count": 2,
   "id": "91c4fe1d",
   "metadata": {},
   "outputs": [],
   "source": [
    "ftype = jnp.float32\n",
    "\n",
    "pi = ftype('3.141592653589793238462643383279502884')\n",
    "sqrt2 = jnp.sqrt(ftype('2.0'))\n",
    "sqrt3 = jnp.sqrt(ftype('3.0'))\n",
    "f0 = ftype('0.0')\n",
    "f1 = ftype('1.0')\n",
    "f2 = ftype('2.0')\n",
    "f3 = ftype('3.0')\n",
    "f4 = ftype('4.0')\n",
    "f6 = ftype('6.0')\n",
    "\n",
    "r0 = sqrt3**-1\n",
    "lambdasq = pi/f6*(r0**-2)\n",
    "gamma = jnp.sqrt(pi / f6)\n",
    "mu = jnp.sqrt(sqrt3 * pi) / sqrt2\n",
    "\n",
    "delta = f1 / f4 * (r0**-4) * (\n",
    "    -(mu+f2*gamma) +\n",
    "    jnp.sqrt(mu**2 - f4*mu*gamma + f4*(gamma**2) + f4*f4*sqrt2*(gamma**2))\n",
    ")\n",
    "\n",
    "omega = f1 / f2 * (r0**-4) * (\n",
    "    f3 - f2*gamma - mu - f2*(r0**4)*delta\n",
    ")"
   ]
  },
  {
   "cell_type": "markdown",
   "id": "1e238e26",
   "metadata": {},
   "source": [
    "## Forward projection"
   ]
  },
  {
   "cell_type": "code",
   "execution_count": 3,
   "id": "01716de4",
   "metadata": {},
   "outputs": [],
   "source": [
    "def forward(x,y, c,d, ind):\n",
    "    p = (\n",
    "            gamma * x + (f1 - gamma) * (r0**-2) * (x**3) +\n",
    "            x * (y ** 2) * (r0**2 - x**2) * (\n",
    "                delta + (r0**2 - y**2) * jnp.sum(c * (x**(2*ind[0,:])) * (y**(2*ind[1,:])))\n",
    "            ) +\n",
    "            (x**3) * (r0**2 - x**2) * (\n",
    "                omega + (r0**2 - x**2) * jnp.sum(d * (x**(2*ind[0,:,0])))\n",
    "            )\n",
    "        )\n",
    "    e = (\n",
    "            gamma * y + (f1 - gamma) * (r0**-2) * (y**3) +\n",
    "            y * (x ** 2) * (r0**2 - y**2) * (\n",
    "                delta + (r0**2 - x**2) * jnp.sum(c * (y**(2*ind[0,:])) * (x**(2*ind[1,:])))\n",
    "            ) +\n",
    "            (y**3) * (r0**2 - y**2) * (\n",
    "                omega + (r0**2 - y**2) * jnp.sum(d * (y**(2*ind[0,:,0])))\n",
    "            )\n",
    "        )\n",
    "    return jnp.array([p,e],dtype=ftype)"
   ]
  },
  {
   "cell_type": "code",
   "execution_count": 4,
   "id": "4b5dc88f",
   "metadata": {},
   "outputs": [],
   "source": [
    "# Precalculated by Ken Chan and O'Neil\n",
    "\n",
    "c = jnp.array([\n",
    "    [-2.7217053661814,  2.1711174809423,  1.9736265758872],\n",
    "    [-5.5842168305430, -6.4160151526783,  0.0000000000000],\n",
    "    [-3.4578627473390,  0.0000000000000,  0.0000000000000]\n",
    "], dtype=ftype)\n",
    "d = jnp.array([\n",
    "    1.4833129294187, 1.1199726069742, 6.0515382161464\n",
    "], dtype=ftype)\n",
    "i = c.shape[0]\n",
    "j = c.shape[1]\n",
    "ind = jnp.indices((i,j))"
   ]
  },
  {
   "cell_type": "code",
   "execution_count": 5,
   "id": "a5577626",
   "metadata": {},
   "outputs": [
    {
     "data": {
      "text/plain": [
       "3.0"
      ]
     },
     "execution_count": 5,
     "metadata": {},
     "output_type": "execute_result"
    }
   ],
   "source": [
    "jnp.float32(3)"
   ]
  },
  {
   "cell_type": "code",
   "execution_count": 6,
   "id": "8534b682",
   "metadata": {},
   "outputs": [
    {
     "name": "stdout",
     "output_type": "stream",
     "text": [
      "r0: 0.5773502795520422\n",
      "f(-x, y) = -f( x, y): [-0.07291681  0.07291681] = [-0.07291681 -0.07291681]\n",
      "f( x,-y) =  f( x, y): [ 0.07291681 -0.07291681] = [0.07291681 0.07291681]\n",
      "f( 0, y) =  0       : [0.        0.0729494] = 0.0\n",
      "f(r0, y) = r0       : [0.57735026 0.08146909]  = 0.5773502795520422\n"
     ]
    }
   ],
   "source": [
    "# Function checks\n",
    "# f(-x, y) = -f( x, y)\n",
    "# f( x,-y) =  f( x, y)\n",
    "# f( 0, y) =  0\n",
    "# f(r0, y) = r0\n",
    "\n",
    "print(f'r0: {r0}')\n",
    "print(f'f(-x, y) = -f( x, y): {forward(ftype(-0.1),ftype(0.1),c,d,ind)} = {-forward(ftype(0.1),ftype(0.1),c,d,ind)}')\n",
    "print(f'f( x,-y) =  f( x, y): {forward(ftype(0.1),ftype(-0.1),c,d,ind)} = {forward(ftype(0.1),ftype(0.1),c,d,ind)}')\n",
    "print(f'f( 0, y) =  0       : {forward(ftype(0.0),ftype(0.1),c,d,ind)} = 0.0')\n",
    "print(f'f(r0, y) = r0       : {forward(r0,ftype(0.1),c,d,ind)}  = {r0}')"
   ]
  },
  {
   "cell_type": "code",
   "execution_count": 9,
   "id": "a3595079",
   "metadata": {},
   "outputs": [],
   "source": [
    "# Spherical projection\n",
    "def sproj(A,B,C,D,E):\n",
    "    return A*(B*B*C)/((C*C+D*D+E*E)**1.5)\n",
    "\n",
    "def area(P1,P2,P3):\n",
    "    \"\"\"\n",
    "    P1, P2, P3 - arrays of shape (2,batch) of P,E\n",
    "    \"\"\"\n",
    "    # By Kahan: https://www.johndcook.com/blog/2020/02/27/numerical-heron/\n",
    "    \n",
    "    # Sort a, b, c into descending order\n",
    "    if len(P1.shape) < 2:\n",
    "        P1 = jnp.expand_dims(P1, axis=1)\n",
    "        P2 = jnp.expand_dims(P2, axis=1)\n",
    "        P3 = jnp.expand_dims(P3, axis=1)\n",
    "        \n",
    "    P1 = jnp.transpose(P1, axes=[1,0])\n",
    "    P2 = jnp.transpose(P2, axes=[1,0])\n",
    "    P3 = jnp.transpose(P3, axes=[1,0])\n",
    "    P1, P2, P3 = (\n",
    "        jnp.sqrt(jnp.sum((P2-P1)**2, axis=1)),\n",
    "        jnp.sqrt(jnp.sum((P3-P2)**2, axis=1)),\n",
    "        jnp.sqrt(jnp.sum((P1-P3)**2, axis=1))\n",
    "    )\n",
    "    \n",
    "    P = jnp.stack([P1,P2,P3], axis=0)\n",
    "    P = jnp.sort(P, axis=0)[::-1]\n",
    "    \n",
    "    P1 = P[0]\n",
    "    P2 = P[1]\n",
    "    P3 = P[2]\n",
    "\n",
    "    p = (P1 + (P2 + P3))*(P3 - (P1 - P2))*(P3 + (P1 - P2))*(P1 + (P2 - P3))\n",
    "    p = jnp.sqrt(p) / f4\n",
    "    if p.shape[0] == 1:\n",
    "        p = p.squeeze(axis=0)\n",
    "    return p\n",
    "\n",
    "# RM = 1.0\n",
    "# XM = YM = R0\n",
    "# XIN = YIN = XM / (6.0-1.0) for 6 steps\n",
    "# DX = DY = XM * 0.1^12\n",
    "def cntary(c,d,ind,DX,DY,XIN,YIN,XM,YM,RM,R0):\n",
    "    SA = jnp.zeros((6,6)) # for 6 steps\n",
    "    \n",
    "    X = f0\n",
    "    for J in range(0,5):\n",
    "        Y = f0\n",
    "        for I in range(0,J+1):\n",
    "            # Direct transformation\n",
    "            P1 = forward(X,    Y, c, d, ind)\n",
    "            P2 = forward(X+DX, Y, c, d, ind)\n",
    "            P3 = forward(X+DX, Y+DY, c, d, ind)\n",
    "            P4 = forward(X,    Y+DY, c, d, ind)\n",
    "            # Compute area of transformed square\n",
    "            S1 = area(P1,P2,P3)\n",
    "            S2 = area(P1,P4,P3)\n",
    "            S = S1 + S2\n",
    "            # Project to spherical surface\n",
    "            proj = sproj(S,RM,R0,P1[0],P1[1])\n",
    "            #SA = SA.at[I,J].set(proj)\n",
    "            SA[I,J] = proj\n",
    "            Y = Y + YIN\n",
    "        X = X + XIN\n",
    "    \n",
    "    X = f0\n",
    "    Y = YM\n",
    "    \n",
    "    for I in range(0,6):\n",
    "        P1 = forward(X,    Y, c, d, ind)\n",
    "        P2 = forward(X-DX, Y, c, d, ind)\n",
    "        P3 = forward(X-DX, Y-DY, c, d, ind)\n",
    "        P4 = forward(X,    Y-DY, c, d, ind)\n",
    "        S1 = area(P1,P2,P3)\n",
    "        S2 = area(P1,P4,P3)\n",
    "        S = S1 + S2\n",
    "        proj = sproj(S,RM,R0,P1[0],P1[1])\n",
    "        #SA = SA.at[I,5].set(proj)\n",
    "        SA[I,5] = proj\n",
    "        X = X + XIN\n",
    "    \n",
    "    return SA\n",
    "\n",
    "def funk(c,d,ind,DX,DY,XIN,YIN,XM,YM,RM,R0):\n",
    "    SA = cntary(c,d,ind,DX,DY,XIN,YIN,XM,YM,RM,R0)\n",
    "    SAC = SA[0,0]\n",
    "    SA = SA / SAC\n",
    "    DEVSQ = f0\n",
    "    for J in range(0,6):\n",
    "        for I in range(0,J+1):\n",
    "            DEVSQ = DEVSQ + (SA[I,J] - f1) ** 2\n",
    "    return jnp.sqrt(DEVSQ / (1+6)*6/2)"
   ]
  },
  {
   "cell_type": "code",
   "execution_count": 10,
   "id": "8b691cfe",
   "metadata": {},
   "outputs": [
    {
     "data": {
      "text/plain": [
       "0.00115905506301529"
      ]
     },
     "execution_count": 10,
     "metadata": {},
     "output_type": "execute_result"
    }
   ],
   "source": [
    "#c = jnp.ones((3,3),dtype=ftype)\n",
    "#d = jnp.ones((3,),dtype=ftype)\n",
    "#ind = jnp.indices((3,3))\n",
    "def loss(c,d):\n",
    "    # RM = 1.0\n",
    "    # XM = YM = R0\n",
    "    # XIN = YIN = XM / (6.0-1.0) for 6 steps\n",
    "    # DX = DY = XM * 0.1^12\n",
    "    RM = f1\n",
    "    XM = r0\n",
    "    YM = r0\n",
    "    XIN = XM / (ftype('6.0')-f1)\n",
    "    YIN = YM / (ftype('6.0')-f1)\n",
    "    DX = XM * ftype('1e-4')\n",
    "    DY = YM * ftype('1e-4')\n",
    "    return funk(c,d,ind,DX,DY,XIN,YIN,XM,YM,RM,r0)\n",
    "\n",
    "loss(c,d)"
   ]
  },
  {
   "cell_type": "code",
   "execution_count": 16,
   "id": "65a15dbf",
   "metadata": {},
   "outputs": [
    {
     "name": "stdout",
     "output_type": "stream",
     "text": [
      "[-0.27217054  0.21711175  0.19736266 -0.5584217  -0.6416015   0.\n",
      " -0.3457863   0.          0.          0.1483313   0.11199726  0.6051538 ]\n",
      "[-0.27217054  0.          0.         -0.5584217  -0.6416015   0.\n",
      " -0.3457863   0.          0.          0.1483313   0.11199726  0.6051538 ]\n"
     ]
    }
   ],
   "source": [
    "#from scipy.optimize import differential_evolution as minimize\n",
    "from scipy.optimize import minimize\n",
    "\n",
    "x0 = jnp.concatenate((c.flatten(), d)) * 0.1\n",
    "x0l = jnp.array(x0)\n",
    "x0l[1] = f0\n",
    "x0l[2] = f0\n",
    "bounds = jnp.repeat(jnp.array([[-10.0,10.0]],dtype=ftype),12,axis=0)\n",
    "def loss_compact(x):\n",
    "    xl = x * 10.0\n",
    "    cl = xl[0:9].reshape((3,3))\n",
    "    dl = xl[9:12]\n",
    "    return loss(cl,dl)\n",
    "\n",
    "iteration = 1\n",
    "def callback_func(x):#, f, context\n",
    "    global iteration\n",
    "    print(f'[{iteration}]: {x}')\n",
    "    iteration = iteration + 1\n",
    "\n",
    "x1r = minimize(loss_compact, x0l, method='bfgs', callback=callback_func)\n",
    "#x1r = minimize(loss_compact, bounds, x0=x0, tol=0.0001, callback=callback_func)\n",
    "x1 = x1r.x\n",
    "print(x0)\n",
    "print(x1)"
   ]
  },
  {
   "cell_type": "code",
   "execution_count": 17,
   "id": "5e80ceab",
   "metadata": {},
   "outputs": [
    {
     "name": "stdout",
     "output_type": "stream",
     "text": [
      "0.00115905506301529\n",
      "0.010255818366460733\n"
     ]
    }
   ],
   "source": [
    "print(loss_compact(x0))\n",
    "print(loss_compact(x1))"
   ]
  },
  {
   "cell_type": "code",
   "execution_count": 58,
   "id": "b260d8b7",
   "metadata": {},
   "outputs": [
    {
     "data": {
      "text/plain": [
       "(20, 20, 2)"
      ]
     },
     "execution_count": 58,
     "metadata": {},
     "output_type": "execute_result"
    }
   ],
   "source": [
    "Z = x0[np.newaxis,:]\n",
    "Z = np.repeat(Z, 20, axis=0)\n",
    "Z = Z[np.newaxis,:]\n",
    "Z = np.repeat(Z, 20, axis=0)\n",
    "np.array(np.meshgrid(XY[:,0], XY[:,1])).reshape((20,20,2),order='F').shape"
   ]
  },
  {
   "cell_type": "code",
   "execution_count": 60,
   "id": "c52f727b",
   "metadata": {},
   "outputs": [
    {
     "data": {
      "text/plain": [
       "<mpl_toolkits.mplot3d.art3d.Line3DCollection at 0x7efd07aa5a30>"
      ]
     },
     "execution_count": 60,
     "metadata": {},
     "output_type": "execute_result"
    },
    {
     "data": {
      "image/png": "[encoded data removed]",
      "text/plain": [
       "<Figure size 432x288 with 1 Axes>"
      ]
     },
     "metadata": {
      "needs_background": "light"
     },
     "output_type": "display_data"
    }
   ],
   "source": [
    "%matplotlib inline\n",
    "import numpy as np\n",
    "import matplotlib.pyplot as plt\n",
    "\n",
    "n = 20\n",
    "XY = np.linspace([c[0,1] - 0.1, c[0,2]-0.1], [c[0,1] + 0.1, c[0,2] + 0.1], num=n)\n",
    "Z[:,:,1:3] = np.array(np.meshgrid(XY[:,0], XY[:,1])).reshape((20,20,2),order='F')\n",
    "\n",
    "L = np.zeros((n,n))\n",
    "for i in range(n):\n",
    "    for j in range(n):\n",
    "        L[i,j] = loss_compact(Z[i,j])\n",
    "        \n",
    "ax = plt.axes(projection='3d')\n",
    "ax.plot_wireframe(X, Y, L, color='black')"
   ]
  }
 ],
 "metadata": {
  "kernelspec": {
   "display_name": "ml43d",
   "language": "python",
   "name": "ml43d"
  },
  "language_info": {
   "codemirror_mode": {
    "name": "ipython",
    "version": 3
   },
   "file_extension": ".py",
   "mimetype": "text/x-python",
   "name": "python",
   "nbconvert_exporter": "python",
   "pygments_lexer": "ipython3",
   "version": "3.8.13"
  }
 },
 "nbformat": 4,
 "nbformat_minor": 5
}
