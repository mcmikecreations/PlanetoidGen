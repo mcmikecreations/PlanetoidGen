{
 "cells": [
  {
   "cell_type": "markdown",
   "id": "c077da24",
   "metadata": {},
   "source": [
    "Original code:\n",
    "```\n",
    "// PROGRAM USED FOR EVALUATING COEFFICIENTS OF f(x,y)\n",
    "MAIN\n",
    "// This program computes coefficients of the direct transformation function\n",
    "// by minimizing the difference in area for small areas\n",
    "\n",
    "// By E. Michael O`Neill\n",
    "// Computer Sciences Corporation\n",
    "// 8728 Colesville Rd. Silver Spring, Md.\n",
    "\n",
    "IMPLICIT REAL*8 (A-H,O-Z) // all variables starting with this are double\n",
    "\n",
    "EXTERNAL FUNK\n",
    "COMMON RM, RO, GAMMA, OMGAM, XM, YM, XIN, YIN, DX, DY, DELTA, OMEGA\n",
    "\n",
    "COMMON /BILBO/ CHISQ, X(20), XMIN(20), XMAX(20), DELTAX(20),\n",
    "    DELMIN(20), ERR(20,20), NV, NTRACE, MATRIX, MASK(20)\n",
    "\n",
    "COMMON /FRODO/ NFMAX, NFLAT, JVARY, NEXTRA\n",
    "\n",
    "DATA PI/3.141592653589D0/\n",
    "DATA NOUT2/10/\n",
    "\n",
    "// SET PRECALCULATED COEFFICIENTS\n",
    "DELTA = 0.7904864491208D0\n",
    "GAMSQ = PI/6.0D0\n",
    "GAMMA = DSQRT(GAMSQ)\n",
    "OMGAM = 1.0D0 - GAMMA\n",
    "AMU = DSQRT(DSQRT(3.0D0)*PI/2.0D0)\n",
    "\n",
    "// SET DIMENSIONAL PARAMETERS\n",
    "RM = 1.0D0\n",
    "R0 = DSQRT(RM*RM/3.0D0)\n",
    "R2 = R0*R0\n",
    "R4 = R2*R2\n",
    "OMEGA = 0.5D0/R4*(3.0D0 - 2.0D0*GAMMA - AMU - 2.0D0*DELTA*R4)\n",
    "XM = R0\n",
    "YM = R0\n",
    "XIN = XM / 5.0D0\n",
    "YIN = XIN\n",
    "DX = XM*1.0D-12\n",
    "```"
   ]
  },
  {
   "cell_type": "markdown",
   "id": "2ea9a8a2",
   "metadata": {},
   "source": [
    "## Subroutine FUNK\n",
    "\n",
    "Basically the same as [Root-mean-square deviation](https://en.wikipedia.org/wiki/Root-mean-square_deviation).\n",
    "\n",
    "There are 21 samples at SA(I,J), calculated by calling the CNTARY subroutine below. Then it is passed to the RMS as normal, so this code can be replaced by a standard calculation with a slightly different data.\n",
    "\n",
    "```\n",
    "// This subroutine calls CNTARY to calculate the projected areas of a grid of small squares.\n",
    "// The RMS of the deviations of the areas from the area calculated at the center is returned as CHISQ\n",
    "\n",
    "IMPLICIT REAL*8 (A-H,O-Z)\n",
    "COMMON RM,RO,GAMMA,OMGAM,XM,YM,XIN,YIN,DX,DY\n",
    "COMMON /BILBO/ CHISQ, X(20), XMIN(20), XMAX(20), DELTAX(20), DELMIN(20), ERR(20,20), NV, NTRACE, MATRIX, MASK(20)\n",
    "\n",
    "DIMENSION SA(6,6), AA(6,6)\n",
    "\n",
    "EQUIVALENCE (C01, X(1)), (C10, X(1)), (C11, X(2)), (C02, X(3)), (C20, X(3))\n",
    "*, (C12, X(4)), (C21, X(4)), (C22, X(5)), (C03, X(6)), (C30, X(6)), (C31, X(7))\n",
    "*, (C13, X(7)), (C23, X(8)), (C32, X(8)), (C33, X(9))\n",
    "\n",
    "CALL CNTARY(SA)\n",
    "SAC = SA(1,1)\n",
    "DO 20 J=1,6\n",
    "DO 20 I=1,J\n",
    "SA(I,J) = SA(I,J)/SAC\n",
    "\n",
    "DEVSQ = 0.0D0\n",
    "\n",
    "DO 30 J=1,6\n",
    "DO 30 I=1,J\n",
    "DEVSQ = DEVSQ + (SA(I,J)-1.0D0)**2\n",
    "\n",
    "CHISQ = DSQRT(DEVSQ / 21.0D0)\n",
    "RETURN\n",
    "END\n",
    "```"
   ]
  },
  {
   "cell_type": "markdown",
   "id": "89d7e7ed",
   "metadata": {},
   "source": [
    "## Subroutine XY TO PE\n",
    "\n",
    "Basically f(x,y), with X,Y,R0 as input, P,E as output"
   ]
  },
  {
   "cell_type": "markdown",
   "id": "905cd068",
   "metadata": {},
   "source": [
    "## Function AREA\n",
    "\n",
    "Calculates area of triangle from P1, P2, P3 using `0.5*c*h`"
   ]
  },
  {
   "cell_type": "markdown",
   "id": "62d8479f",
   "metadata": {},
   "source": [
    "## Subroutine CNTARY\n",
    "\n",
    "Calculates projected areas, SA as output, uses XY TO PE and AREA"
   ]
  },
  {
   "cell_type": "code",
   "execution_count": null,
   "id": "075a55bd",
   "metadata": {},
   "outputs": [],
   "source": []
  }
 ],
 "metadata": {
  "kernelspec": {
   "display_name": "Python 3 (ipykernel)",
   "language": "python",
   "name": "python3"
  },
  "language_info": {
   "codemirror_mode": {
    "name": "ipython",
    "version": 3
   },
   "file_extension": ".py",
   "mimetype": "text/x-python",
   "name": "python",
   "nbconvert_exporter": "python",
   "pygments_lexer": "ipython3",
   "version": "3.8.10"
  }
 },
 "nbformat": 4,
 "nbformat_minor": 5
}
